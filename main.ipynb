{
 "cells": [
  {
   "cell_type": "markdown",
   "metadata": {},
   "source": [
    "# Facial Recognition Model using TensorFlow & Machine Learning"
   ]
  },
  {
   "cell_type": "code",
   "execution_count": 9,
   "metadata": {},
   "outputs": [
    {
     "data": {
      "text/plain": [
       "'C:\\\\Users\\\\AparnaChoubey\\\\anaconda3\\\\python.exe'"
      ]
     },
     "execution_count": 9,
     "metadata": {},
     "output_type": "execute_result"
    }
   ],
   "source": [
    "import sys\n",
    "sys.executable"
   ]
  },
  {
   "cell_type": "code",
   "execution_count": 3,
   "metadata": {},
   "outputs": [],
   "source": [
    "import tensorflow as tf"
   ]
  },
  {
   "cell_type": "code",
   "execution_count": 4,
   "metadata": {},
   "outputs": [
    {
     "name": "stdout",
     "output_type": "stream",
     "text": [
      "1.15.0\n"
     ]
    }
   ],
   "source": [
    "print(tf.__version__)"
   ]
  },
  {
   "cell_type": "code",
   "execution_count": 5,
   "metadata": {},
   "outputs": [],
   "source": [
    "import os\n",
    "import numpy as np\n",
    "import matplotlib.pyplot as plt"
   ]
  },
  {
   "cell_type": "code",
   "execution_count": 8,
   "metadata": {},
   "outputs": [
    {
     "name": "stdout",
     "output_type": "stream",
     "text": [
      "1.18.1\n"
     ]
    }
   ],
   "source": [
    "print(np.__version__)"
   ]
  },
  {
   "cell_type": "code",
   "execution_count": 25,
   "metadata": {},
   "outputs": [
    {
     "name": "stdout",
     "output_type": "stream",
     "text": [
      "Found 98 images belonging to 6 classes.\n",
      "Found 23 images belonging to 6 classes.\n",
      "{'Chandler': 0, 'Joey': 1, 'Monica': 2, 'Phoebe': 3, 'Rachel': 4, 'Ross': 5}\n"
     ]
    }
   ],
   "source": [
    "base_dir = \"train\"\n",
    "\n",
    "# We are trying to minimize the resolution of the images without loosing the 'Features'\n",
    "# For facial recognition, this seems to be working fine, you can increase or decrease it\n",
    "IMAGE_SIZE = 224\n",
    "\n",
    "# Depending upon the total number of images you have set the batch size\n",
    "# I have 50 images per person (which still won't give very accurate result)\n",
    "# Hence, I am setting my batch size to 5\n",
    "# So in 10 epochs/iterations batch size of 5 will be processed and trained\n",
    "BATCH_SIZE = 5\n",
    "\n",
    "# We need a data generator which rescales the images\n",
    "# Pre-processes the images like re-scaling and other required operations for the next steps\n",
    "data_generator = tf.keras.preprocessing.image.ImageDataGenerator(\n",
    "    rescale=1. / 255,\n",
    "    validation_split=0.2)\n",
    "\n",
    "# We separate out data set into Training, Validation & Testing. Mostly you will see Training and Validation.\n",
    "# We create generators for that, here we have train and validation generator.\n",
    "# Create a train_generator\n",
    "train_generator = data_generator.flow_from_directory(\n",
    "    base_dir,\n",
    "    target_size=(IMAGE_SIZE, IMAGE_SIZE),\n",
    "    batch_size=BATCH_SIZE,\n",
    "    subset='training')\n",
    "\n",
    "# Create a validation generator\n",
    "val_generator = data_generator.flow_from_directory(\n",
    "    base_dir,\n",
    "    target_size=(IMAGE_SIZE, IMAGE_SIZE),\n",
    "    batch_size=BATCH_SIZE,\n",
    "    subset='validation')\n",
    "\n",
    "# Triggering a training generator for all the batches\n",
    "for image_batch, label_batch in train_generator:\n",
    "    break\n",
    "    \n",
    "# This will print all classification labels in the console\n",
    "print(train_generator.class_indices)\n"
   ]
  },
  {
   "cell_type": "code",
   "execution_count": 26,
   "metadata": {},
   "outputs": [],
   "source": [
    "# Creating a file which will contain all names in the format of next lines\n",
    "labels = '\\n'.join(sorted(train_generator.class_indices.keys()))\n",
    "\n",
    "# Writing it out to the file which will be named 'labels.txt'\n",
    "with open('labels.txt', 'w') as f:\n",
    "    f.write(labels)\n"
   ]
  },
  {
   "cell_type": "code",
   "execution_count": 27,
   "metadata": {},
   "outputs": [],
   "source": [
    "\"\"\"\n",
    "We have to create the base model from the pre-trained CNN\n",
    "Create the base model from the **MobileNet V2** model developed at Google\n",
    "and pre-trained on the ImageNet dataset, a large dataset of 1.4M images and 1000 classes of web images.\n",
    "First, pick which intermediate layer of MobileNet V2 will be used for feature extraction. \n",
    "A common practice is to use the output of the very last layer before the flatten operation,\n",
    "The so-called \"bottleneck layer\". The reasoning here is that the following fully-connected layers \n",
    "will be too specialized to the task the network was trained on, and thus the features learned by\n",
    "These layers won't be very useful for a new task. The bottleneck features, however, retain much generality.\n",
    "Let's instantiate an MobileNet V2 model pre-loaded with weights trained on ImageNet. \n",
    "By specifying the `include_top=False` argument, we load a network that doesn't include the\n",
    "classification layers at the top, which is ideal for feature extraction.\n",
    "\"\"\"\n",
    "\n",
    "# Resolution of images (Width , Height, Array of size 3 to accommodate RGB Colors)\n",
    "IMG_SHAPE = (IMAGE_SIZE, IMAGE_SIZE, 3)\n",
    "\n",
    "# Create the base model from the pre-trained model MobileNet V2 Hidden and output layer is in the model The first\n",
    "# layer does a redundant work of classification of features which is not required to be trained\n",
    "# (This is also called as bottle neck layer)\n",
    "\n",
    "# Hence, creating a model with EXCLUDING the top layer\n",
    "base_model = tf.keras.applications.MobileNetV2(input_shape=IMG_SHAPE,\n",
    "                                               include_top=False,\n",
    "                                               weights='imagenet')"
   ]
  },
  {
   "cell_type": "code",
   "execution_count": 28,
   "metadata": {},
   "outputs": [
    {
     "name": "stdout",
     "output_type": "stream",
     "text": [
      "Model: \"sequential_2\"\n",
      "_________________________________________________________________\n",
      "Layer (type)                 Output Shape              Param #   \n",
      "=================================================================\n",
      "mobilenetv2_1.00_224 (Model) (None, 7, 7, 1280)        2257984   \n",
      "_________________________________________________________________\n",
      "conv2d_2 (Conv2D)            (None, 5, 5, 32)          368672    \n",
      "_________________________________________________________________\n",
      "dropout_2 (Dropout)          (None, 5, 5, 32)          0         \n",
      "_________________________________________________________________\n",
      "global_average_pooling2d_2 ( (None, 32)                0         \n",
      "_________________________________________________________________\n",
      "dense_2 (Dense)              (None, 6)                 198       \n",
      "=================================================================\n",
      "Total params: 2,626,854\n",
      "Trainable params: 368,870\n",
      "Non-trainable params: 2,257,984\n",
      "_________________________________________________________________\n"
     ]
    }
   ],
   "source": [
    "# Feature extraction\n",
    "# You will freeze the convolution base created from the previous step and use that as a feature extractor\n",
    "# Add a classifier on top of it and train the top-level classifier.\n",
    "\n",
    "# We will be tweaking the model with our own classifications\n",
    "# Hence we don't want our tweaks to affect the layers in the 'base_model'\n",
    "# Hence we disable their training\n",
    "base_model.trainable = False\n",
    "\n",
    "# Add a classification head\n",
    "# We are going to add more classification 'heads' to our model\n",
    "\n",
    "# 1 -   We are giving our base model (Top Layer removed, hidden and output layer UN-TRAINABLE)\n",
    "\n",
    "# 2 -   2D Convolution network (32 nodes, 3 Kernel size, Activation Function)\n",
    "#       [Remember how Convolutions are formed, with role of kernels]\n",
    "#       [ Kernels in Convents are Odd numbered]\n",
    "#       [ Kernels are just a determinant which is multiplied with Image Matrix]\n",
    "#       [They help in enhancement of features]\n",
    "\n",
    "# 3 -   We don't need all nodes, 20% of nodes will be dropped out [probability of each \"bad\" node being dropped is 20%\n",
    "#       Bad here means the nodes which are not contributing much value to the final output\n",
    "\n",
    "# 4 -   Convolution and pooling - 2X2 matrix is taken and a pooling is done\n",
    "#       Pooling is done for data size reduction by taking average\n",
    "\n",
    "# 5 -   All above are transformation layers, this is the main Dense Layer\n",
    "#       Dense layer takes input from all prev nodes and gives input to all next nodes.\n",
    "#       It is very densely connected and hence called the Dense Layer.\n",
    "#       We are using the Activation function of 'Softmax'\n",
    "#       There is another popular Activation function called 'Relu'\n",
    "\n",
    "model = tf.keras.Sequential([\n",
    "    base_model,  # 1\n",
    "    tf.keras.layers.Conv2D(32, 3, activation='relu'),  # 2\n",
    "    tf.keras.layers.Dropout(0.2),  # 3\n",
    "    tf.keras.layers.GlobalAveragePooling2D(),  # 4\n",
    "    tf.keras.layers.Dense(6, activation='softmax')  # 5\n",
    "])\n",
    "\n",
    "# You must compile the model before training it.  Since there are two classes, use a binary cross-entropy loss.\n",
    "# Since we have added more classification nodes, to our existing model, we need to compile the whole thing\n",
    "# as a single model, hence we will compile the model now\n",
    "\n",
    "# 1 - BP optimizer [Adam/Xavier algorithms help in Optimization]\n",
    "# 2 - Weights are changed depending upon the 'LOSS' ['RMS, 'CROSS-ENTROPY' are some algorithms]\n",
    "# 3 - On basis of which parameter our loss will be calculated? here we are going for accuracy\n",
    "model.compile(optimizer=tf.keras.optimizers.Adam(),  # 1\n",
    "              loss='categorical_crossentropy',  # 2\n",
    "              metrics=['accuracy'])  # 3\n",
    "\n",
    "# To see the model summary in a tabular structure\n",
    "model.summary()"
   ]
  },
  {
   "cell_type": "code",
   "execution_count": 29,
   "metadata": {},
   "outputs": [
    {
     "name": "stdout",
     "output_type": "stream",
     "text": [
      "Number of trainable variables = 4\n"
     ]
    }
   ],
   "source": [
    "# Printing some statistics\n",
    "print('Number of trainable variables = {}'.format(len(model.trainable_variables)))\n"
   ]
  },
  {
   "cell_type": "code",
   "execution_count": 31,
   "metadata": {},
   "outputs": [
    {
     "name": "stdout",
     "output_type": "stream",
     "text": [
      "Epoch 1/10\n",
      "19/20 [===========================>..] - ETA: 1s - loss: 0.9321 - acc: 0.6452Epoch 1/10\n",
      "20/20 [==============================] - 23s 1s/step - loss: 0.9591 - acc: 0.6327 - val_loss: 2.2601 - val_acc: 0.4348\n",
      "Epoch 2/10\n",
      "19/20 [===========================>..] - ETA: 1s - loss: 0.7018 - acc: 0.7634Epoch 1/10\n",
      "20/20 [==============================] - 25s 1s/step - loss: 0.6818 - acc: 0.7755 - val_loss: 1.6715 - val_acc: 0.4783\n",
      "Epoch 3/10\n",
      "19/20 [===========================>..] - ETA: 1s - loss: 0.8015 - acc: 0.6989Epoch 1/10\n",
      "20/20 [==============================] - 24s 1s/step - loss: 0.7715 - acc: 0.7143 - val_loss: 1.8664 - val_acc: 0.5217\n",
      "Epoch 4/10\n",
      "19/20 [===========================>..] - ETA: 1s - loss: 0.5357 - acc: 0.8387Epoch 1/10\n",
      "20/20 [==============================] - 23s 1s/step - loss: 0.5450 - acc: 0.8367 - val_loss: 1.8422 - val_acc: 0.5217\n",
      "Epoch 5/10\n",
      "19/20 [===========================>..] - ETA: 1s - loss: 0.4909 - acc: 0.8280Epoch 1/10\n",
      "20/20 [==============================] - 23s 1s/step - loss: 0.5334 - acc: 0.7959 - val_loss: 1.9019 - val_acc: 0.4348\n",
      "Epoch 6/10\n",
      "19/20 [===========================>..] - ETA: 1s - loss: 0.4362 - acc: 0.9140Epoch 1/10\n",
      "20/20 [==============================] - 23s 1s/step - loss: 0.4295 - acc: 0.9082 - val_loss: 1.9583 - val_acc: 0.4783\n",
      "Epoch 7/10\n",
      "19/20 [===========================>..] - ETA: 1s - loss: 0.4066 - acc: 0.8602Epoch 1/10\n",
      "20/20 [==============================] - 23s 1s/step - loss: 0.4489 - acc: 0.8367 - val_loss: 3.2484 - val_acc: 0.3913\n",
      "Epoch 8/10\n",
      "19/20 [===========================>..] - ETA: 1s - loss: 0.3205 - acc: 0.9247Epoch 1/10\n",
      "20/20 [==============================] - 23s 1s/step - loss: 0.3288 - acc: 0.9184 - val_loss: 2.6587 - val_acc: 0.3478\n",
      "Epoch 9/10\n",
      "19/20 [===========================>..] - ETA: 1s - loss: 0.4932 - acc: 0.8065Epoch 1/10\n",
      "20/20 [==============================] - 24s 1s/step - loss: 0.4734 - acc: 0.8163 - val_loss: 2.8234 - val_acc: 0.3478\n",
      "Epoch 10/10\n",
      "19/20 [===========================>..] - ETA: 1s - loss: 0.2745 - acc: 0.9140Epoch 1/10\n",
      "20/20 [==============================] - 23s 1s/step - loss: 0.2911 - acc: 0.9082 - val_loss: 4.1484 - val_acc: 0.4783\n"
     ]
    }
   ],
   "source": [
    "# Train the model\n",
    "# We will do it in 10 Iterations\n",
    "epochs = 10\n",
    "\n",
    "# Fitting / Training the model\n",
    "history = model.fit(train_generator,\n",
    "                    epochs=epochs,\n",
    "                    validation_data=val_generator)"
   ]
  },
  {
   "cell_type": "code",
   "execution_count": 41,
   "metadata": {},
   "outputs": [
    {
     "data": {
      "image/png": "[encoded data removed]",
      "text/plain": [
       "<Figure size 576x576 with 2 Axes>"
      ]
     },
     "metadata": {
      "needs_background": "light"
     },
     "output_type": "display_data"
    }
   ],
   "source": [
    "# Visualizing the Learning curves [OPTIONAL]\n",
    "#\n",
    "# Let's take a look at the learning curves of the training and validation accuracy/loss\n",
    "# When using the MobileNet V2 base model as a fixed feature extractor.\n",
    "\n",
    "acc = history.history['acc']\n",
    "val_acc = history.history['val_acc']\n",
    "loss = history.history['loss']\n",
    "val_loss = history.history['val_loss']\n",
    "plt.figure(figsize=(8, 8))\n",
    "plt.subplot(2, 1, 1)\n",
    "plt.plot(acc, label='Training Accuracy')\n",
    "plt.plot(val_acc, label='Validation Accuracy')\n",
    "plt.legend(loc='lower right')\n",
    "plt.ylabel('Accuracy')\n",
    "plt.ylim([min(plt.ylim()), 1])\n",
    "plt.title('Training and Validation Accuracy')\n",
    "plt.subplot(2, 1, 2)\n",
    "plt.plot(loss, label='Training Loss')\n",
    "plt.plot(val_loss, label='Validation Loss')\n",
    "plt.legend(loc='upper right')\n",
    "plt.ylabel('Cross Entropy')\n",
    "plt.ylim([0, 1.0])\n",
    "plt.title('Training and Validation Loss')\n",
    "plt.xlabel('epoch')\n",
    "plt.show()\n"
   ]
  },
  {
   "cell_type": "code",
   "execution_count": 39,
   "metadata": {},
   "outputs": [
    {
     "data": {
      "text/plain": [
       "['loss', 'acc']"
      ]
     },
     "execution_count": 39,
     "metadata": {},
     "output_type": "execute_result"
    }
   ],
   "source": [
    "model.metrics_names"
   ]
  },
  {
   "cell_type": "code",
   "execution_count": 42,
   "metadata": {},
   "outputs": [
    {
     "name": "stdout",
     "output_type": "stream",
     "text": [
      "Number of layers in the base model:  155\n"
     ]
    }
   ],
   "source": [
    "\"\"\"## Fine tuning\n",
    "In our feature extraction experiment, you were only training a few layers on top of an MobileNet V2 base model. The weights of the pre-trained network were **not** updated during training.\n",
    "One way to increase performance even further is to train (or \"fine-tune\") the weights of the top layers of the pre-trained model alongside the training of the classifier you added. The training process will force the weights to be tuned from generic features maps to features associated specifically to our dataset.\n",
    "### Un-freeze the top layers of the model\n",
    "All you need to do is unfreeze the `base_model` and set the bottom layers be un-trainable. Then, recompile the model (necessary for these changes to take effect), and resume training.\n",
    "\"\"\"\n",
    "\n",
    "# Setting back to trainable\n",
    "base_model.trainable = True\n",
    "\n",
    "# Let's take a look to see how many layers are in the base model\n",
    "print(\"Number of layers in the base model: \", len(base_model.layers))"
   ]
  },
  {
   "cell_type": "code",
   "execution_count": 43,
   "metadata": {},
   "outputs": [
    {
     "name": "stdout",
     "output_type": "stream",
     "text": [
      "Model: \"sequential_2\"\n",
      "_________________________________________________________________\n",
      "Layer (type)                 Output Shape              Param #   \n",
      "=================================================================\n",
      "mobilenetv2_1.00_224 (Model) (None, 7, 7, 1280)        2257984   \n",
      "_________________________________________________________________\n",
      "conv2d_2 (Conv2D)            (None, 5, 5, 32)          368672    \n",
      "_________________________________________________________________\n",
      "dropout_2 (Dropout)          (None, 5, 5, 32)          0         \n",
      "_________________________________________________________________\n",
      "global_average_pooling2d_2 ( (None, 32)                0         \n",
      "_________________________________________________________________\n",
      "dense_2 (Dense)              (None, 6)                 198       \n",
      "=================================================================\n",
      "Total params: 2,626,854\n",
      "Trainable params: 2,231,462\n",
      "Non-trainable params: 395,392\n",
      "_________________________________________________________________\n"
     ]
    }
   ],
   "source": [
    "# Fine tune from this layer onwards\n",
    "fine_tune_at = 100\n",
    "\n",
    "# Freeze all the layers before the `fine_tune_at` layer\n",
    "for layer in base_model.layers[:fine_tune_at]:\n",
    "    layer.trainable = False\n",
    "\n",
    "# Compile the model\n",
    "# Compile the model using a much lower training rate.\n",
    "# Notice the parameter in Adam() function, parameter passed to Adam is the learning rate\n",
    "model.compile(loss='categorical_crossentropy',\n",
    "              optimizer=tf.keras.optimizers.Adam(1e-5),\n",
    "              metrics=['accuracy'])\n",
    "\n",
    "# Getting the summary of the final model\n",
    "model.summary()"
   ]
  },
  {
   "cell_type": "code",
   "execution_count": 44,
   "metadata": {},
   "outputs": [
    {
     "name": "stdout",
     "output_type": "stream",
     "text": [
      "Number of trainable variables = 60\n"
     ]
    }
   ],
   "source": [
    "# Printing Training Variables\n",
    "print('Number of trainable variables = {}'.format(len(model.trainable_variables)))"
   ]
  },
  {
   "cell_type": "code",
   "execution_count": 45,
   "metadata": {},
   "outputs": [
    {
     "name": "stdout",
     "output_type": "stream",
     "text": [
      "Epoch 1/5\n",
      "19/20 [===========================>..] - ETA: 1s - loss: 0.1671 - acc: 0.9677Epoch 1/5\n",
      "20/20 [==============================] - 44s 2s/step - loss: 0.1656 - acc: 0.9694 - val_loss: 3.7330 - val_acc: 0.4783\n",
      "Epoch 2/5\n",
      "19/20 [===========================>..] - ETA: 1s - loss: 0.0938 - acc: 0.9785Epoch 1/5\n",
      "20/20 [==============================] - 27s 1s/step - loss: 0.0930 - acc: 0.9796 - val_loss: 3.9417 - val_acc: 0.4783\n",
      "Epoch 3/5\n",
      "19/20 [===========================>..] - ETA: 1s - loss: 0.2226 - acc: 0.9570Epoch 1/5\n",
      "20/20 [==============================] - 27s 1s/step - loss: 0.2281 - acc: 0.9490 - val_loss: 3.3572 - val_acc: 0.4783\n",
      "Epoch 4/5\n",
      "19/20 [===========================>..] - ETA: 1s - loss: 0.1104 - acc: 0.9677Epoch 1/5\n",
      "20/20 [==============================] - 27s 1s/step - loss: 0.1066 - acc: 0.9694 - val_loss: 3.8537 - val_acc: 0.4783\n",
      "Epoch 5/5\n",
      "19/20 [===========================>..] - ETA: 1s - loss: 0.1288 - acc: 0.9355Epoch 1/5\n",
      "20/20 [==============================] - 27s 1s/step - loss: 0.1244 - acc: 0.9388 - val_loss: 3.2696 - val_acc: 0.4783\n",
      "Model Saved to save/fine_tuning.h5\n"
     ]
    }
   ],
   "source": [
    "# Continue Train the model\n",
    "history_fine = model.fit(train_generator,\n",
    "                         epochs=5,\n",
    "                         validation_data=val_generator\n",
    "                         )\n",
    "# Saving the Trained Model to the keras h5 format.\n",
    "# So in future, if we want to convert again, we don't have to go through the whole process again\n",
    "saved_model_dir = 'save/fine_tuning.h5'\n",
    "model.save(saved_model_dir)\n",
    "print(\"Model Saved to save/fine_tuning.h5\")"
   ]
  },
  {
   "cell_type": "code",
   "execution_count": null,
   "metadata": {},
   "outputs": [],
   "source": []
  }
 ],
 "metadata": {
  "kernelspec": {
   "display_name": "Python [conda env:root] *",
   "language": "python",
   "name": "conda-root-py"
  },
  "language_info": {
   "codemirror_mode": {
    "name": "ipython",
    "version": 3
   },
   "file_extension": ".py",
   "mimetype": "text/x-python",
   "name": "python",
   "nbconvert_exporter": "python",
   "pygments_lexer": "ipython3",
   "version": "3.7.6"
  }
 },
 "nbformat": 4,
 "nbformat_minor": 4
}
